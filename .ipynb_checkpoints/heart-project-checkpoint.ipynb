{
 "cells": [
  {
   "cell_type": "code",
   "execution_count": null,
   "id": "cf18f62c",
   "metadata": {},
   "outputs": [],
   "source": [
    "# Importation des bibliothèques nécessaires\n",
    "\n",
    "import pandas as pd\n",
    "import numpy as np\n",
    "import matplotlib.pyplot as plt\n",
    "import seaborn as sns \n",
    "from sklearn.model_selection import train_test_split\n",
    "from sklearn import metrics \n",
    "from sklearn.linear_model import LinearRegression \n",
    "from sklearn.metrics import mean_squared_error, r2_score , mean_absolute_error\n",
    "\n",
    "#chargement de la data\n",
    "# chemin de dataset\n",
    "df = pd.read_csv('./heart.csv')\n",
    "o2_Saturation = pd.read_csv('./o2Saturation.csv')\n"
   ]
  },
  {
   "cell_type": "code",
   "execution_count": null,
   "id": "85b839bb",
   "metadata": {},
   "outputs": [],
   "source": [
    "# affichage des premiere lignes de la data\n",
    "df.head()"
   ]
  },
  {
   "cell_type": "code",
   "execution_count": null,
   "id": "2eb620f5",
   "metadata": {},
   "outputs": [],
   "source": [
    "o2_Saturation.head()"
   ]
  },
  {
   "cell_type": "code",
   "execution_count": null,
   "id": "9727bdf5",
   "metadata": {},
   "outputs": [],
   "source": [
    "#creation d'une nouvelle colonne 'o2saturation'sur la data\n",
    "df[\"o2Sauration\"]= o2_Saturation[\"98.6\"]"
   ]
  },
  {
   "cell_type": "code",
   "execution_count": null,
   "id": "3369eba7",
   "metadata": {},
   "outputs": [],
   "source": [
    "# affichage des noms des colonnes\n",
    "df.columns"
   ]
  },
  {
   "cell_type": "code",
   "execution_count": null,
   "id": "49c9c079",
   "metadata": {},
   "outputs": [],
   "source": [
    "# affichage le nobmre des lignes et des colonnes(la forme)\n",
    "df.shape"
   ]
  },
  {
   "cell_type": "code",
   "execution_count": null,
   "id": "178ca561",
   "metadata": {},
   "outputs": [],
   "source": [
    "#afficher des statistiques descriptives\n",
    "df.describe(include=\"all\")"
   ]
  },
  {
   "cell_type": "code",
   "execution_count": null,
   "id": "01bf1adc",
   "metadata": {},
   "outputs": [],
   "source": [
    "#afficher des informations sur les types de donnees \n",
    "df.info()"
   ]
  },
  {
   "cell_type": "code",
   "execution_count": null,
   "id": "2d5b18c5",
   "metadata": {},
   "outputs": [],
   "source": [
    "#calcul du valeurs manquantes pour chaque colonne\n",
    "df.isna().sum().to_frame().rename(columns={0:\"number of missing values\"})"
   ]
  },
  {
   "cell_type": "code",
   "execution_count": null,
   "id": "81fef8f9",
   "metadata": {},
   "outputs": [],
   "source": [
    "# affichade des doublons\n",
    "df[df.duplicated()]"
   ]
  },
  {
   "cell_type": "code",
   "execution_count": null,
   "id": "c6f4a7f6",
   "metadata": {},
   "outputs": [],
   "source": []
  },
  {
   "cell_type": "code",
   "execution_count": null,
   "id": "e8d723e2",
   "metadata": {},
   "outputs": [],
   "source": [
    "#supression des doublons\n",
    "df = df.drop_duplicates()\n",
    "df.shape"
   ]
  },
  {
   "cell_type": "code",
   "execution_count": null,
   "id": "b77a51ba",
   "metadata": {},
   "outputs": [],
   "source": [
    "#verification de la supression des doublons\n",
    "df[df.duplicated()]"
   ]
  },
  {
   "cell_type": "code",
   "execution_count": null,
   "id": "d44cc4ed",
   "metadata": {},
   "outputs": [],
   "source": [
    "# visualisation des outliers\n",
    "\n",
    "col_num = ['age', 'trtbps', 'chol', 'thalachh', 'oldpeak']\n",
    "plt.figure(figsize=(10,5))\n",
    "for i in range(0,len(col_num)):\n",
    "    plt.subplot(1,len(col_num),i+1)\n",
    "  \n",
    "    sns.boxplot(y=df[col_num[i]])\n",
    "   \n",
    "plt.tight_layout()\n"
   ]
  },
  {
   "cell_type": "code",
   "execution_count": null,
   "id": "6809b13a",
   "metadata": {},
   "outputs": [],
   "source": [
    "#creation d'une fonction pour supprimer les outliers\n",
    "def remove_outliers (df,col_num):\n",
    "    filtred_df = df.copy()\n",
    "    \n",
    "    for i in col_num:\n",
    "        Q1 = filtred_df[i].quantile(0.25)\n",
    "        Q3 = filtred_df[i].quantile(0.75)\n",
    "        IQR = Q3 - Q1\n",
    "        \n",
    "        lower_bound = Q1 - (1.5*IQR)\n",
    "        upper_bound = Q3 + (1.5*IQR)\n",
    "        \n",
    "        filtred_df = filtred_df[(filtred_df[i]>= lower_bound)& (filtred_df[i]<=upper_bound)]\n",
    "    return filtred_df\n",
    "\n",
    "# Suppression des outliers\n",
    "filtred_df = remove_outliers (df,col_num)\n",
    "\n"
   ]
  },
  {
   "cell_type": "code",
   "execution_count": null,
   "id": "8456dcc0",
   "metadata": {},
   "outputs": [],
   "source": [
    "# Visualisation des outliers après le traitement\n",
    "\n",
    "col_num = ['age', 'trtbps', 'chol', 'thalachh', 'oldpeak']\n",
    "plt.figure(figsize=(10,5))\n",
    "for i in range(0,len(col_num)):\n",
    "        plt.subplot(1,len(col_num),i+1)\n",
    "\n",
    "        sns.boxplot(y=filtred_df[col_num[i]])\n",
    "\n",
    "plt.tight_layout()\n",
    "\n",
    "    "
   ]
  },
  {
   "cell_type": "code",
   "execution_count": null,
   "id": "c9b7d20c",
   "metadata": {},
   "outputs": [],
   "source": [
    "# Modling\n",
    "#importation de la fonction train_test_split pour depuis sklearn_model_selection\n",
    "#diviser les donnes en ensembles de traitement et de test\n",
    "# les caracteristiques sont tous les colonnes sauf la colonne output\n",
    "#la cible est la colonne output\n",
    "\n",
    "X_train, X_test, y_train, y_test = train_test_split(df.drop(\"output\", axis=1),\n",
    "                                                    df[\"output\"],\n",
    "                                                    test_size=0.3)"
   ]
  },
  {
   "cell_type": "code",
   "execution_count": null,
   "id": "c3aeba1a",
   "metadata": {},
   "outputs": [],
   "source": [
    "#affichage des dimmentions d'entrainement et de test \n",
    "X_train.shape, X_test.shape, y_train.shape, y_test.shape"
   ]
  },
  {
   "cell_type": "code",
   "execution_count": null,
   "id": "f935627d",
   "metadata": {},
   "outputs": [],
   "source": [
    "#definition d'une fonction pour executer le model\n",
    "def run_experiment(model):\n",
    "    \n",
    "  #entrainement du model sur l'ensemble d'entrainement  \n",
    "    model.fit(X_train, y_train)\n",
    "    \n",
    "  #prediction sur l'ensemble de test  \n",
    "    y_pred = model.predict(X_test)\n",
    "  #affichage des metriques de performance : R², MAE et RMSE  \n",
    "    print(\"R^2 : \", r2_score(y_test, y_pred))\n",
    "    print(\"MAE :\", mean_absolute_error(y_test,y_pred))\n",
    "    print(\"RMSE:\",np.sqrt(mean_squared_error(y_test, y_pred)))"
   ]
  },
  {
   "cell_type": "code",
   "execution_count": null,
   "id": "2b330682",
   "metadata": {},
   "outputs": [],
   "source": [
    "#importation du model de régression lineaire depuis sklearn_linear_model \n",
    "from sklearn.linear_model import LinearRegression\n",
    "\n",
    "#instanciation d'un model de régression lineaire\n",
    "model = LinearRegression()\n",
    "\n",
    "#execution avec le model de la régression pour evaluer la performance de mon model\n",
    "run_experiment(model)"
   ]
  }
 ],
 "metadata": {
  "kernelspec": {
   "display_name": "Python 3 (ipykernel)",
   "language": "python",
   "name": "python3"
  },
  "language_info": {
   "codemirror_mode": {
    "name": "ipython",
    "version": 3
   },
   "file_extension": ".py",
   "mimetype": "text/x-python",
   "name": "python",
   "nbconvert_exporter": "python",
   "pygments_lexer": "ipython3",
   "version": "3.11.5"
  }
 },
 "nbformat": 4,
 "nbformat_minor": 5
}
